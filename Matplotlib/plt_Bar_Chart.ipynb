{
  "nbformat": 4,
  "nbformat_minor": 0,
  "metadata": {
    "colab": {
      "name": "plt.Bar Chart",
      "provenance": [],
      "authorship_tag": "ABX9TyM1SUqFU7+keXDURANbgFmc",
      "include_colab_link": true
    },
    "kernelspec": {
      "name": "python3",
      "display_name": "Python 3"
    },
    "language_info": {
      "name": "python"
    }
  },
  "cells": [
    {
      "cell_type": "markdown",
      "metadata": {
        "id": "view-in-github",
        "colab_type": "text"
      },
      "source": [
        "<a href=\"https://colab.research.google.com/github/ninjaa1234/Learning_New/blob/main/Matplotlib/plt_Bar_Chart.ipynb\" target=\"_parent\"><img src=\"https://colab.research.google.com/assets/colab-badge.svg\" alt=\"Open In Colab\"/></a>"
      ]
    },
    {
      "cell_type": "code",
      "execution_count": 6,
      "metadata": {
        "id": "Qt2ca4InW66v"
      },
      "outputs": [],
      "source": [
        "import matplotlib.pyplot as plt\n",
        "import numpy as np\n",
        "%matplotlib inline"
      ]
    },
    {
      "cell_type": "code",
      "source": [
        "company=['GOOGL','AMZN','MSFT','FB']\n",
        "revenue=[90,136,89,27]\n",
        "profit=[40,2,34,12]"
      ],
      "metadata": {
        "id": "Zl0LSA5XXIXz"
      },
      "execution_count": 14,
      "outputs": []
    },
    {
      "cell_type": "code",
      "source": [
        "xpos=np.arange(len(company))\n",
        "xpos"
      ],
      "metadata": {
        "colab": {
          "base_uri": "https://localhost:8080/"
        },
        "id": "4GxoNIqpXSXW",
        "outputId": "4c2be49a-fea7-40e7-f426-8f93a4a9a663"
      },
      "execution_count": 17,
      "outputs": [
        {
          "output_type": "execute_result",
          "data": {
            "text/plain": [
              "array([0, 1, 2, 3])"
            ]
          },
          "metadata": {},
          "execution_count": 17
        }
      ]
    },
    {
      "cell_type": "code",
      "source": [
        "#because ypos is a list of numbers and not string\n",
        "plt.bar(xpos,revenue)"
      ],
      "metadata": {
        "colab": {
          "base_uri": "https://localhost:8080/",
          "height": 282
        },
        "id": "IpCRpqHeXJUF",
        "outputId": "af0c8375-5d55-453c-b2ea-ba9c65bde31d"
      },
      "execution_count": 18,
      "outputs": [
        {
          "output_type": "execute_result",
          "data": {
            "text/plain": [
              "<BarContainer object of 4 artists>"
            ]
          },
          "metadata": {},
          "execution_count": 18
        },
        {
          "output_type": "display_data",
          "data": {
            "image/png": "[encoded data removed]",
            "text/plain": [
              "<Figure size 432x288 with 1 Axes>"
            ]
          },
          "metadata": {
            "needs_background": "light"
          }
        }
      ]
    },
    {
      "cell_type": "markdown",
      "source": [
        "#To substitute corresponding company name with their inxes"
      ],
      "metadata": {
        "id": "byO3uetRXzni"
      }
    },
    {
      "cell_type": "code",
      "source": [
        "plt.xticks(xpos,company)\n",
        "plt.bar(xpos,revenue)"
      ],
      "metadata": {
        "colab": {
          "base_uri": "https://localhost:8080/",
          "height": 282
        },
        "id": "x2xer7NNXwkw",
        "outputId": "e7919582-b6eb-477d-efe0-d905dd4036ed"
      },
      "execution_count": 19,
      "outputs": [
        {
          "output_type": "execute_result",
          "data": {
            "text/plain": [
              "<BarContainer object of 4 artists>"
            ]
          },
          "metadata": {},
          "execution_count": 19
        },
        {
          "output_type": "display_data",
          "data": {
            "image/png": "[encoded data removed]",
            "text/plain": [
              "<Figure size 432x288 with 1 Axes>"
            ]
          },
          "metadata": {
            "needs_background": "light"
          }
        }
      ]
    },
    {
      "cell_type": "markdown",
      "source": [
        "#Calling another plot inside the same plot"
      ],
      "metadata": {
        "id": "fJKa5HXnYt-H"
      }
    },
    {
      "cell_type": "code",
      "source": [
        "#both graphs on the same plot\n",
        "\n",
        "plt.xticks(xpos,company)\n",
        "plt.ylabel(\"revenue(bin)\")\n",
        "plt.title(\"US Tech Stocks\")\n",
        "plt.bar(xpos,revenue, label=\"Revenue\")\n",
        "plt.bar(xpos,profit,label=(\"Profit\"))\n",
        "\n",
        "plt.legend()"
      ],
      "metadata": {
        "colab": {
          "base_uri": "https://localhost:8080/",
          "height": 298
        },
        "id": "qPfc8DOhYL-R",
        "outputId": "fb467a7d-59cb-485d-9787-1528bf938ac4"
      },
      "execution_count": 20,
      "outputs": [
        {
          "output_type": "execute_result",
          "data": {
            "text/plain": [
              "<matplotlib.legend.Legend at 0x7f1c9e14e3d0>"
            ]
          },
          "metadata": {},
          "execution_count": 20
        },
        {
          "output_type": "display_data",
          "data": {
            "image/png": "[encoded data removed]",
            "text/plain": [
              "<Figure size 432x288 with 1 Axes>"
            ]
          },
          "metadata": {
            "needs_background": "light"
          }
        }
      ]
    },
    {
      "cell_type": "code",
      "source": [
        "#both graphs side by side\n",
        "\n",
        "plt.xticks(xpos,company)\n",
        "plt.ylabel(\"revenue(bin)\")\n",
        "plt.title(\"US Tech Stocks\")\n",
        "plt.bar(xpos-0.2,revenue, width=0.4,label=\"Revenue\")\n",
        "plt.bar(xpos+0.2,profit,width=0.4, label=(\"Profit\"))\n",
        "\n",
        "plt.legend()\n"
      ],
      "metadata": {
        "colab": {
          "base_uri": "https://localhost:8080/",
          "height": 298
        },
        "id": "2Qzy-ubWZpU-",
        "outputId": "977b18d3-c04d-4ec8-93b4-8d086533edd3"
      },
      "execution_count": 24,
      "outputs": [
        {
          "output_type": "execute_result",
          "data": {
            "text/plain": [
              "<matplotlib.legend.Legend at 0x7f1c9e523c50>"
            ]
          },
          "metadata": {},
          "execution_count": 24
        },
        {
          "output_type": "display_data",
          "data": {
            "image/png": "[encoded data removed]",
            "text/plain": [
              "<Figure size 432x288 with 1 Axes>"
            ]
          },
          "metadata": {
            "needs_background": "light"
          }
        }
      ]
    },
    {
      "cell_type": "markdown",
      "source": [
        "#horizontal charts\n",
        "plt.barh"
      ],
      "metadata": {
        "id": "vjZwTkhZaNQp"
      }
    },
    {
      "cell_type": "code",
      "source": [
        "plt.yticks(xpos,company)\n",
        "plt.xlabel(\"revenue(bin)\")\n",
        "plt.title(\"US Tech Stocks\")\n",
        "plt.barh(xpos-0.2,revenue,label=\"Revenue\")\n",
        "plt.barh(xpos+0.2,profit, label=(\"Profit\"))\n",
        "\n",
        "plt.legend()"
      ],
      "metadata": {
        "colab": {
          "base_uri": "https://localhost:8080/",
          "height": 312
        },
        "id": "EcyG7tteaRww",
        "outputId": "22e8008c-2d04-4b58-a7e0-b0dac84ef9fd"
      },
      "execution_count": 30,
      "outputs": [
        {
          "output_type": "execute_result",
          "data": {
            "text/plain": [
              "<matplotlib.legend.Legend at 0x7f1c9ddf2450>"
            ]
          },
          "metadata": {},
          "execution_count": 30
        },
        {
          "output_type": "display_data",
          "data": {
            "image/png": "[encoded data removed]",
            "text/plain": [
              "<Figure size 432x288 with 1 Axes>"
            ]
          },
          "metadata": {
            "needs_background": "light"
          }
        }
      ]
    }
  ]
}