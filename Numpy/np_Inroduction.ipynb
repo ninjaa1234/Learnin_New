{
  "nbformat": 4,
  "nbformat_minor": 0,
  "metadata": {
    "colab": {
      "name": "np.Inroduction",
      "provenance": [],
      "authorship_tag": "ABX9TyNUlF6nTLBK2xJFSWZ7D2kC",
      "include_colab_link": true
    },
    "kernelspec": {
      "name": "python3",
      "display_name": "Python 3"
    },
    "language_info": {
      "name": "python"
    }
  },
  "cells": [
    {
      "cell_type": "markdown",
      "metadata": {
        "id": "view-in-github",
        "colab_type": "text"
      },
      "source": [
        "<a href=\"https://colab.research.google.com/github/ninjaa1234/Learning_New/blob/main/Numpy/np_Inroduction.ipynb\" target=\"_parent\"><img src=\"https://colab.research.google.com/assets/colab-badge.svg\" alt=\"Open In Colab\"/></a>"
      ]
    },
    {
      "cell_type": "code",
      "execution_count": 2,
      "metadata": {
        "id": "YU3ymsC2aTYD"
      },
      "outputs": [],
      "source": [
        "import numpy as np\n"
      ]
    },
    {
      "cell_type": "code",
      "source": [
        "a=np.array([1,2,3])\n",
        "a"
      ],
      "metadata": {
        "colab": {
          "base_uri": "https://localhost:8080/"
        },
        "id": "P9cIR4u5amvk",
        "outputId": "9f54fb7c-0fc9-4748-a680-1383f435e3e9"
      },
      "execution_count": 4,
      "outputs": [
        {
          "output_type": "execute_result",
          "data": {
            "text/plain": [
              "array([1, 2, 3])"
            ]
          },
          "metadata": {},
          "execution_count": 4
        }
      ]
    },
    {
      "cell_type": "code",
      "source": [
        "a[0]"
      ],
      "metadata": {
        "colab": {
          "base_uri": "https://localhost:8080/"
        },
        "id": "oLRAMw0zatRs",
        "outputId": "9ddeba46-4eee-4e87-8885-7fad26df4335"
      },
      "execution_count": 5,
      "outputs": [
        {
          "output_type": "execute_result",
          "data": {
            "text/plain": [
              "1"
            ]
          },
          "metadata": {},
          "execution_count": 5
        }
      ]
    },
    {
      "cell_type": "markdown",
      "source": [
        "#Comparing with a list\n",
        "\n"
      ],
      "metadata": {
        "id": "HH4McGG3ayM4"
      }
    },
    {
      "cell_type": "code",
      "source": [
        "import time\n",
        "import sys"
      ],
      "metadata": {
        "id": "cpa2gnn-bT6p"
      },
      "execution_count": 6,
      "outputs": []
    },
    {
      "cell_type": "code",
      "source": [
        "#bit count in list and array\n",
        "\n",
        "l=range(1000)\n",
        "print(sys.getsizeof(5)*len(l))\n",
        "\n",
        "array=np.arange(1000)\n",
        "print(array.size*array.itemsize)"
      ],
      "metadata": {
        "colab": {
          "base_uri": "https://localhost:8080/"
        },
        "id": "YI14e0KbbFUa",
        "outputId": "feaa8617-264f-4ad4-e7d0-df1a26635e95"
      },
      "execution_count": 10,
      "outputs": [
        {
          "output_type": "stream",
          "name": "stdout",
          "text": [
            "28000\n",
            "8000\n"
          ]
        }
      ]
    },
    {
      "cell_type": "code",
      "source": [
        "#speed of processing in list and array\n",
        "\n",
        "SIZE=1000000\n",
        "\n",
        "l1=range(SIZE)\n",
        "l2=range(SIZE)\n",
        "\n",
        "a1=np.arange(SIZE)\n",
        "a2=np.arange(SIZE)\n",
        "\n",
        "#python list time\n",
        "start=time.time()\n",
        "result=[(x+y) for x,y in zip(l1,l2)]\n",
        "print(\"python list took:\",(time.time()-start)*1000)\n",
        "\n",
        "#python array time\n",
        "start=time.time()\n",
        "result=a1+a2\n",
        "print(\"python array took:\",(time.time()-start)*1000)\n",
        "\n"
      ],
      "metadata": {
        "colab": {
          "base_uri": "https://localhost:8080/"
        },
        "id": "MqTiMEPRa4_v",
        "outputId": "dd01e891-00a6-46d6-db7c-13ceffe649d8"
      },
      "execution_count": 15,
      "outputs": [
        {
          "output_type": "stream",
          "name": "stdout",
          "text": [
            "python list took: 140.89226722717285\n",
            "python array took: 21.699190139770508\n"
          ]
        }
      ]
    },
    {
      "cell_type": "code",
      "source": [
        "a1=np.array([1,2,3])\n",
        "a2=np.array([4,5,6])\n",
        "a=a1+a2\n",
        "b=a2-a1\n",
        "c=a1*a2\n",
        "d=a1/a2\n",
        "print(a,b,c,d)"
      ],
      "metadata": {
        "colab": {
          "base_uri": "https://localhost:8080/"
        },
        "id": "YBYHtAhzd-BY",
        "outputId": "94f5ddc6-f58a-4bf9-fc7d-1782093a1625"
      },
      "execution_count": 17,
      "outputs": [
        {
          "output_type": "stream",
          "name": "stdout",
          "text": [
            "[5 7 9] [3 3 3] [ 4 10 18] [0.25 0.4  0.5 ]\n"
          ]
        }
      ]
    }
  ]
}