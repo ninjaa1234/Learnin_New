{
  "nbformat": 4,
  "nbformat_minor": 0,
  "metadata": {
    "colab": {
      "name": "np.iterate and numpy editor",
      "provenance": [],
      "authorship_tag": "ABX9TyP08+IJRoYInDSaUfWFIEDl",
      "include_colab_link": true
    },
    "kernelspec": {
      "name": "python3",
      "display_name": "Python 3"
    },
    "language_info": {
      "name": "python"
    }
  },
  "cells": [
    {
      "cell_type": "markdown",
      "metadata": {
        "id": "view-in-github",
        "colab_type": "text"
      },
      "source": [
        "<a href=\"https://colab.research.google.com/github/ninjaa1234/Learning_New/blob/main/Numpy/np_iterate_and_numpy_editor.ipynb\" target=\"_parent\"><img src=\"https://colab.research.google.com/assets/colab-badge.svg\" alt=\"Open In Colab\"/></a>"
      ]
    },
    {
      "cell_type": "code",
      "execution_count": 1,
      "metadata": {
        "id": "KVF2nTxE5uKS"
      },
      "outputs": [],
      "source": [
        "import numpy as np"
      ]
    },
    {
      "cell_type": "code",
      "source": [
        "a=np.arange(12).reshape(3,4)\n",
        "a"
      ],
      "metadata": {
        "colab": {
          "base_uri": "https://localhost:8080/"
        },
        "id": "v8EpjcLN54I0",
        "outputId": "8d7c2cd7-df55-479b-933b-2c00d648359c"
      },
      "execution_count": 3,
      "outputs": [
        {
          "output_type": "execute_result",
          "data": {
            "text/plain": [
              "array([[ 0,  1,  2,  3],\n",
              "       [ 4,  5,  6,  7],\n",
              "       [ 8,  9, 10, 11]])"
            ]
          },
          "metadata": {},
          "execution_count": 3
        }
      ]
    },
    {
      "cell_type": "markdown",
      "source": [
        "#run for foor loop"
      ],
      "metadata": {
        "id": "-RGQpIqS6By0"
      }
    },
    {
      "cell_type": "code",
      "source": [
        "#iterating over row\n",
        "\n",
        "for row in a:\n",
        "  print(row)"
      ],
      "metadata": {
        "colab": {
          "base_uri": "https://localhost:8080/"
        },
        "id": "4U3ftP0D6AxC",
        "outputId": "1b900a15-8c5b-471d-f286-0ba8d114e33d"
      },
      "execution_count": 4,
      "outputs": [
        {
          "output_type": "stream",
          "name": "stdout",
          "text": [
            "[0 1 2 3]\n",
            "[4 5 6 7]\n",
            "[ 8  9 10 11]\n"
          ]
        }
      ]
    },
    {
      "cell_type": "code",
      "source": [
        "#iterating over each cell\n",
        "\n",
        "for row in a:\n",
        "  for cell in row:\n",
        "    print(cell)"
      ],
      "metadata": {
        "colab": {
          "base_uri": "https://localhost:8080/"
        },
        "id": "3nE4AOLt6TJZ",
        "outputId": "ee88099e-d884-45d8-a9a6-f3f3c42ea21e"
      },
      "execution_count": 6,
      "outputs": [
        {
          "output_type": "stream",
          "name": "stdout",
          "text": [
            "0\n",
            "1\n",
            "2\n",
            "3\n",
            "4\n",
            "5\n",
            "6\n",
            "7\n",
            "8\n",
            "9\n",
            "10\n",
            "11\n"
          ]
        }
      ]
    },
    {
      "cell_type": "markdown",
      "source": [
        "#use flatten method() "
      ],
      "metadata": {
        "id": "9DFnTvE77E12"
      }
    },
    {
      "cell_type": "code",
      "source": [
        "for cell in a.flatten():\n",
        "  print(cell)"
      ],
      "metadata": {
        "colab": {
          "base_uri": "https://localhost:8080/"
        },
        "id": "MAVUQnEl6qin",
        "outputId": "4e796bdc-7b6c-40f2-82d4-704a71854793"
      },
      "execution_count": 7,
      "outputs": [
        {
          "output_type": "stream",
          "name": "stdout",
          "text": [
            "0\n",
            "1\n",
            "2\n",
            "3\n",
            "4\n",
            "5\n",
            "6\n",
            "7\n",
            "8\n",
            "9\n",
            "10\n",
            "11\n"
          ]
        }
      ]
    },
    {
      "cell_type": "markdown",
      "source": [
        "#numpy function nditer()"
      ],
      "metadata": {
        "id": "Jck1w4W57G4T"
      }
    },
    {
      "cell_type": "code",
      "source": [
        "#prints cell row order\n",
        "\n",
        "for x in np.nditer(a,order='C'):\n",
        "  print(x)"
      ],
      "metadata": {
        "colab": {
          "base_uri": "https://localhost:8080/"
        },
        "id": "8azO7bDQ6_tz",
        "outputId": "09af2153-958b-4548-ef4c-95efc65245e5"
      },
      "execution_count": 8,
      "outputs": [
        {
          "output_type": "stream",
          "name": "stdout",
          "text": [
            "0\n",
            "1\n",
            "2\n",
            "3\n",
            "4\n",
            "5\n",
            "6\n",
            "7\n",
            "8\n",
            "9\n",
            "10\n",
            "11\n"
          ]
        }
      ]
    },
    {
      "cell_type": "code",
      "source": [
        "#prints cell column order\n",
        "\n",
        "\n",
        "for x in np.nditer(a,order='F'):\n",
        "  print(x)"
      ],
      "metadata": {
        "colab": {
          "base_uri": "https://localhost:8080/"
        },
        "id": "-XVOslXU7mqN",
        "outputId": "fe6d6f08-3510-4081-bdea-826e9e59e723"
      },
      "execution_count": 9,
      "outputs": [
        {
          "output_type": "stream",
          "name": "stdout",
          "text": [
            "0\n",
            "4\n",
            "8\n",
            "1\n",
            "5\n",
            "9\n",
            "2\n",
            "6\n",
            "10\n",
            "3\n",
            "7\n",
            "11\n"
          ]
        }
      ]
    },
    {
      "cell_type": "markdown",
      "source": [
        "#supply flags in numpy function nditer()"
      ],
      "metadata": {
        "id": "daVf3tt18fG8"
      }
    },
    {
      "cell_type": "code",
      "source": [
        "#prints in column order\n",
        "for x in np.nditer(a,order='F',flags=['external_loop']):\n",
        "  print(x)"
      ],
      "metadata": {
        "colab": {
          "base_uri": "https://localhost:8080/"
        },
        "id": "YHI3cjcg8klV",
        "outputId": "38a45138-b45e-4b4a-a05f-7bda6ea90407"
      },
      "execution_count": 13,
      "outputs": [
        {
          "output_type": "stream",
          "name": "stdout",
          "text": [
            "[0 4 8]\n",
            "[1 5 9]\n",
            "[ 2  6 10]\n",
            "[ 3  7 11]\n"
          ]
        }
      ]
    },
    {
      "cell_type": "code",
      "source": [
        "#prints in row order\n",
        "for x in np.nditer(a,order='C',flags=['external_loop']):\n",
        "  print(x)"
      ],
      "metadata": {
        "colab": {
          "base_uri": "https://localhost:8080/"
        },
        "id": "zk-VqieQ889n",
        "outputId": "bee63982-739f-4144-bdaa-60f6c83956bb"
      },
      "execution_count": 14,
      "outputs": [
        {
          "output_type": "stream",
          "name": "stdout",
          "text": [
            "[ 0  1  2  3  4  5  6  7  8  9 10 11]\n"
          ]
        }
      ]
    },
    {
      "cell_type": "markdown",
      "source": [
        "#Modify array values while iterating"
      ],
      "metadata": {
        "id": "_V5eYXdX9apn"
      }
    },
    {
      "cell_type": "code",
      "source": [
        "for x in np.nditer(a, op_flags=['readwrite']):\n",
        "    x[...] = x * x\n",
        "a"
      ],
      "metadata": {
        "colab": {
          "base_uri": "https://localhost:8080/"
        },
        "id": "6AjYU66t9ghY",
        "outputId": "aace9c6d-8517-47cc-ca5d-b492b0a700ff"
      },
      "execution_count": 15,
      "outputs": [
        {
          "output_type": "execute_result",
          "data": {
            "text/plain": [
              "array([[  0,   1,   4,   9],\n",
              "       [ 16,  25,  36,  49],\n",
              "       [ 64,  81, 100, 121]])"
            ]
          },
          "metadata": {},
          "execution_count": 15
        }
      ]
    },
    {
      "cell_type": "markdown",
      "source": [
        "#Iterate two broadcastable arrays concurrently"
      ],
      "metadata": {
        "id": "Cw8hFDod9oBr"
      }
    },
    {
      "cell_type": "code",
      "source": [
        "b = np.arange(3, 15, 4).reshape(3,1)\n",
        "b"
      ],
      "metadata": {
        "colab": {
          "base_uri": "https://localhost:8080/"
        },
        "id": "dWDuLmwB9rcQ",
        "outputId": "9ea21c8d-ab35-4970-8188-f83fc7557629"
      },
      "execution_count": 16,
      "outputs": [
        {
          "output_type": "execute_result",
          "data": {
            "text/plain": [
              "array([[ 3],\n",
              "       [ 7],\n",
              "       [11]])"
            ]
          },
          "metadata": {},
          "execution_count": 16
        }
      ]
    },
    {
      "cell_type": "code",
      "source": [
        "a"
      ],
      "metadata": {
        "colab": {
          "base_uri": "https://localhost:8080/"
        },
        "id": "puRCJXue94M6",
        "outputId": "ad7e1c4b-90d2-49f8-8268-a1c85aafbbd8"
      },
      "execution_count": 17,
      "outputs": [
        {
          "output_type": "execute_result",
          "data": {
            "text/plain": [
              "array([[  0,   1,   4,   9],\n",
              "       [ 16,  25,  36,  49],\n",
              "       [ 64,  81, 100, 121]])"
            ]
          },
          "metadata": {},
          "execution_count": 17
        }
      ]
    },
    {
      "cell_type": "code",
      "source": [
        "#either both arrays should have same size\n",
        "#or one of the arrays dimension should be 1\n",
        "\n",
        "for x,y in np.nditer([a,b]):\n",
        "  print(x,y)"
      ],
      "metadata": {
        "colab": {
          "base_uri": "https://localhost:8080/"
        },
        "id": "rJ08yo2J96Vi",
        "outputId": "7eebe186-feae-466f-dab6-597e69a7bec8"
      },
      "execution_count": 19,
      "outputs": [
        {
          "output_type": "stream",
          "name": "stdout",
          "text": [
            "0 3\n",
            "1 3\n",
            "4 3\n",
            "9 3\n",
            "16 7\n",
            "25 7\n",
            "36 7\n",
            "49 7\n",
            "64 11\n",
            "81 11\n",
            "100 11\n",
            "121 11\n"
          ]
        }
      ]
    }
  ]
}